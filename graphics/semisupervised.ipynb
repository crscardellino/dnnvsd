{
 "cells": [
  {
   "cell_type": "code",
   "execution_count": null,
   "metadata": {
    "collapsed": false
   },
   "outputs": [],
   "source": [
    "%matplotlib inline\n",
    "\n",
    "import os\n",
    "import pandas as pd\n",
    "import numpy as np\n",
    "import matplotlib\n",
    "import matplotlib.pyplot as plt\n",
    "import matplotlib.pylab as pylab\n",
    "import unicodedata\n",
    "from os import path\n",
    "\n",
    "matplotlib.style.use('ggplot')\n",
    "pylab.rcParams['figure.figsize'] = 16, 10  # that's default image size for this interactive session"
   ]
  },
  {
   "cell_type": "code",
   "execution_count": null,
   "metadata": {
    "collapsed": true
   },
   "outputs": [],
   "source": [
    "sensem_results = \"../resources/results/results_semisupervised_sensem_7k/\"\n",
    "with open(\"../resources/sensem/lemmas\", \"r\") as f:\n",
    "    sensem_lemmas = unicodedata.normalize(\"NFC\", f.read().decode(\"utf-8\")).strip().split()\n",
    "\n",
    "semeval_results = \"../resources/results/results_semisupervised_semeval_7k/\"\n",
    "with open(\"../resources/semeval/lexelts/lemmas\", \"r\") as f:\n",
    "    semeval_lemmas = [lemma.strip() for lemma in f.readlines()]\n",
    "\n",
    "lemmas = {\n",
    "    \"sensem\": sensem_lemmas,\n",
    "    \"semeval\": semeval_lemmas\n",
    "}\n",
    "    \n",
    "results = {\n",
    "    \"sensem\": sensem_results,\n",
    "    \"semeval\": semeval_results\n",
    "}\n",
    "\n",
    "results_count = 1770"
   ]
  },
  {
   "cell_type": "code",
   "execution_count": null,
   "metadata": {
    "collapsed": false
   },
   "outputs": [],
   "source": [
    "semisupervised_data = pd.DataFrame({\n",
    "    'corpus': np.empty(results_count, dtype=('U', 20)),\n",
    "    'experiment': np.empty(results_count, dtype=('U', 20)),\n",
    "    'accuracy': np.empty(results_count, dtype=np.float32),\n",
    "})\n",
    "\n",
    "idx = 0\n",
    "\n",
    "for corpus in [\"sensem\", \"semeval\"]:\n",
    "    corpus_lemmas = lemmas[corpus]\n",
    "    corpus_results = results[corpus]\n",
    "\n",
    "    for lemma_idx in os.listdir(corpus_results):\n",
    "        if lemma_idx.endswith(\".yaml\"):\n",
    "            continue\n",
    "        \n",
    "        lemma = corpus_lemmas[int(lemma_idx)]\n",
    "        lemma_dir = path.join(corpus_results, lemma_idx)\n",
    "\n",
    "        for experiment in os.listdir(lemma_dir):\n",
    "            print u\"Getting info from experiment {} of lemma {} of corpus {}\".format(\n",
    "                experiment, lemma, corpus\n",
    "            )\n",
    "            \n",
    "            experiment_dir = path.join(lemma_dir, experiment)\n",
    "\n",
    "            with open(path.join(experiment_dir, \"test_accuracy\"), \"r\") as f:\n",
    "                accuracies = [float(x) for x in f.readlines()]\n",
    "\n",
    "            # Before\n",
    "            semisupervised_data['corpus'][idx] = \"{}_before\".format(corpus)\n",
    "            semisupervised_data['experiment'][idx] = experiment\n",
    "            semisupervised_data['accuracy'][idx] = accuracies[0]\n",
    "            \n",
    "            # After\n",
    "            semisupervised_data['corpus'][idx+1] = \"{}_after\".format(corpus)\n",
    "            semisupervised_data['experiment'][idx+1] = experiment\n",
    "            semisupervised_data['accuracy'][idx+1] = accuracies[1]\n",
    "            idx += 2"
   ]
  },
  {
   "cell_type": "code",
   "execution_count": null,
   "metadata": {
    "collapsed": false
   },
   "outputs": [],
   "source": [
    "semisupervised_data.to_csv(\"data/semisupervised_results.csv\",\n",
    "                           columns=[\"corpus\", \"experiment\", \"accuracy\"], encoding='utf-8',\n",
    "                           float_format=\"%.2f\", index=False)"
   ]
  },
  {
   "cell_type": "code",
   "execution_count": null,
   "metadata": {
    "collapsed": true
   },
   "outputs": [],
   "source": []
  }
 ],
 "metadata": {
  "kernelspec": {
   "display_name": "Python 2",
   "language": "python",
   "name": "python2"
  },
  "language_info": {
   "codemirror_mode": {
    "name": "ipython",
    "version": 2
   },
   "file_extension": ".py",
   "mimetype": "text/x-python",
   "name": "python",
   "nbconvert_exporter": "python",
   "pygments_lexer": "ipython2",
   "version": "2.7.10"
  }
 },
 "nbformat": 4,
 "nbformat_minor": 0
}
