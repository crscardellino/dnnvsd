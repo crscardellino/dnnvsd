{
 "cells": [
  {
   "cell_type": "code",
   "execution_count": null,
   "metadata": {
    "collapsed": true
   },
   "outputs": [],
   "source": [
    "%matplotlib inline\n",
    "\n",
    "import matplotlib\n",
    "import matplotlib.pyplot as plt\n",
    "import matplotlib.pylab as pylab\n",
    "import numpy as np\n",
    "import operator\n",
    "import os\n",
    "import unicodedata\n",
    "\n",
    "from os import path\n",
    "from tabulate import tabulate\n",
    "\n",
    "pylab.rcParams['figure.figsize'] = 18, 12  # that's default image size for this interactive session"
   ]
  },
  {
   "cell_type": "code",
   "execution_count": null,
   "metadata": {
    "collapsed": true
   },
   "outputs": [],
   "source": [
    "experiments = [\n",
    "    \"bow_logreg\",\n",
    "    \"wordvec_mlp_2_0\",\n",
    "    \"wordvecpos_mlp_2_0\"\n",
    "]\n",
    "\n",
    "directory = \"../resources/results/results_semisupervised/\"\n",
    "verbs_file = \"../resources/sensem/verbs\""
   ]
  },
  {
   "cell_type": "code",
   "execution_count": null,
   "metadata": {
    "collapsed": false
   },
   "outputs": [],
   "source": [
    "with open(verbs_file, \"r\") as f:\n",
    "    verbs = unicodedata.normalize(\"NFC\", f.read().decode(\"utf-8\")).strip().split()\n",
    "\n",
    "accuracies = {e: list() for e in experiments}\n",
    "most_common_precision = {e: list() for e in experiments}\n",
    "less_common_recall = {e: list() for e in experiments}\n",
    "\n",
    "for vidx, verb in enumerate(verbs):\n",
    "    vidx = \"{:03}\".format(vidx)\n",
    "\n",
    "    if not path.isdir(path.join(directory, vidx)):\n",
    "        continue\n",
    "\n",
    "    for experiment in experiments:\n",
    "        accuracy_file = path.join(directory, vidx, experiment, \"accuracy\")\n",
    "        mcp_file = path.join(directory, vidx, experiment, \"test_accuracy\")\n",
    "        lcr_file = path.join(directory, vidx, experiment, \"less_common_recall\")\n",
    "\n",
    "        with open(accuracy_file, \"r\") as f:\n",
    "            accuracies[experiment].append(\n",
    "                np.mean([float(acc.strip()) for acc in f.readlines()])\n",
    "            )\n",
    "            \n",
    "        with open(mcp_file, \"r\") as f:\n",
    "            most_common_precision[experiment].append(\n",
    "                np.mean([float(mcp.strip()) for mcp in f.readlines()])\n",
    "            )\n",
    "            \n",
    "        with open(lcr_file, \"r\") as f:\n",
    "            less_common_recall[experiment].append(\n",
    "                np.mean([float(lcr.strip()) for lcr in f.readlines()])\n",
    "            )"
   ]
  },
  {
   "cell_type": "code",
   "execution_count": null,
   "metadata": {
    "collapsed": false
   },
   "outputs": [],
   "source": [
    "best_experiments_accuracy =\\\n",
    "    sorted([(e, np.mean(acc)) for e, acc in accuracies.items()], key=operator.itemgetter(1), reverse=True)\n",
    "best_experiments_mcp =\\\n",
    "    sorted([(e, np.mean(mcp)) for e, mcp in most_common_precision.iteritems()], key=operator.itemgetter(1), reverse=True)\n",
    "best_experiments_lcr =\\\n",
    "    sorted([(e, np.mean(lcr)) for e, lcr in less_common_recall.iteritems()], key=operator.itemgetter(1), reverse=True)\n",
    "\n",
    "def get_boxplot_accuracies():\n",
    "    boxplot_accuracies = []\n",
    "\n",
    "    for experiment, accuracy in best_experiments_accuracy:\n",
    "        boxplot_accuracies.append(accuracies[experiment])\n",
    "\n",
    "    return boxplot_accuracies\n",
    "\n",
    "def get_boxplot_mcp():\n",
    "    boxplot_mcp = []\n",
    "\n",
    "    for experiment, mcp in best_experiments_mcp:\n",
    "        boxplot_mcp.append(most_common_precision[experiment])\n",
    "\n",
    "    return boxplot_mcp\n",
    "\n",
    "def get_boxplot_lcr():\n",
    "    boxplot_lcr = []\n",
    "\n",
    "    for experiment, lcr in best_experiments_lcr:\n",
    "        boxplot_lcr.append(less_common_recall[experiment])\n",
    "\n",
    "    return boxplot_lcr"
   ]
  },
  {
   "cell_type": "code",
   "execution_count": null,
   "metadata": {
    "collapsed": false
   },
   "outputs": [],
   "source": [
    "plt.boxplot(get_boxplot_accuracies()[:10], labels=zip(*best_experiments_accuracy)[0][:10])\n",
    "\n",
    "for experiment, value in best_experiments_accuracy[:10]:\n",
    "    print \"{}: {:.03f}\".format(experiment, value)"
   ]
  },
  {
   "cell_type": "code",
   "execution_count": null,
   "metadata": {
    "collapsed": false
   },
   "outputs": [],
   "source": [
    "plt.boxplot(get_boxplot_mcp()[:10], labels=zip(*best_experiments_mcp)[0][:10])\n",
    "\n",
    "for experiment, value in best_experiments_mcp[:10]:\n",
    "    print \"{}: {:.03f}\".format(experiment, value)"
   ]
  },
  {
   "cell_type": "code",
   "execution_count": null,
   "metadata": {
    "collapsed": false
   },
   "outputs": [],
   "source": [
    "plt.boxplot(get_boxplot_lcr()[:10], labels=zip(*best_experiments_lcr)[0][:10])\n",
    "\n",
    "for experiment, value in best_experiments_lcr[:10]:\n",
    "    print \"{}: {:.03f}\".format(experiment, value)"
   ]
  },
  {
   "cell_type": "code",
   "execution_count": null,
   "metadata": {
    "collapsed": false
   },
   "outputs": [],
   "source": [
    "mean_accuracies = dict(best_experiments_accuracy)\n",
    "mean_mcp = dict(best_experiments_mcp)\n",
    "mean_lcr = dict(best_experiments_lcr)\n",
    "\n",
    "header = [\"Experiment\", \"Accuracy Mean\", \"MFC Precision Mean\", \"LFC Recall Mean\"]\n",
    "table = []\n",
    "\n",
    "for experiment in experiments:\n",
    "    table.append([\n",
    "            experiment,\n",
    "            mean_accuracies[experiment],\n",
    "            mean_mcp[experiment],\n",
    "            mean_lcr[experiment]\n",
    "        ])\n",
    "\n",
    "print tabulate(table, header, floatfmt=\".3f\")"
   ]
  },
  {
   "cell_type": "code",
   "execution_count": null,
   "metadata": {
    "collapsed": true
   },
   "outputs": [],
   "source": []
  }
 ],
 "metadata": {
  "kernelspec": {
   "display_name": "Python 2",
   "language": "python",
   "name": "python2"
  },
  "language_info": {
   "codemirror_mode": {
    "name": "ipython",
    "version": 2
   },
   "file_extension": ".py",
   "mimetype": "text/x-python",
   "name": "python",
   "nbconvert_exporter": "python",
   "pygments_lexer": "ipython2",
   "version": "2.7.10"
  }
 },
 "nbformat": 4,
 "nbformat_minor": 0
}
