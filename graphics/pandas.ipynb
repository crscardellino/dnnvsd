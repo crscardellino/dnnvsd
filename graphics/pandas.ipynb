{
 "cells": [
  {
   "cell_type": "code",
   "execution_count": null,
   "metadata": {
    "collapsed": false
   },
   "outputs": [],
   "source": [
    "%matplotlib inline\n",
    "\n",
    "import os\n",
    "import pandas as pd\n",
    "import numpy as np\n",
    "import matplotlib\n",
    "import matplotlib.pyplot as plt\n",
    "import matplotlib.pylab as pylab\n",
    "\n",
    "matplotlib.style.use('ggplot')\n",
    "pylab.rcParams['figure.figsize'] = 1, 10  # that's default image size for this interactive session"
   ]
  },
  {
   "cell_type": "code",
   "execution_count": null,
   "metadata": {
    "collapsed": false
   },
   "outputs": [],
   "source": [
    "working_dir = \"../resources/results/results_supervised_sensem/\"\n",
    "\n",
    "experiments = {}\n",
    "\n",
    "for lemma_dir in (d for d in os.listdir(working_dir) if not (d.endswith(\".yaml\") or d == \".RData\" or d == \".Rhistory\")):\n",
    "    experiments[lemma_dir] = {}\n",
    "    \n",
    "    for experiment_dir in os.listdir(os.path.join(working_dir, lemma_dir)):\n",
    "        accuracy = np.loadtxt(os.path.join(working_dir, lemma_dir, experiment_dir, \"accuracy\"))\n",
    "        mcp = np.loadtxt(os.path.join(working_dir, lemma_dir, experiment_dir, \"most_common_precision\"))\n",
    "        lcr = np.loadtxt(os.path.join(working_dir, lemma_dir, experiment_dir, \"less_common_recall\"))\n",
    "\n",
    "        experiments[lemma_dir][experiment_dir] = pd.DataFrame({\n",
    "                'accuracy': accuracy,\n",
    "                'mcp': mcp,\n",
    "                'lcr': lcr\n",
    "            })"
   ]
  },
  {
   "cell_type": "code",
   "execution_count": null,
   "metadata": {
    "collapsed": true
   },
   "outputs": [],
   "source": [
    "accuracy_sensem = pd.read_csv(\"scripts/test_accuracy.csv\", index_col=0)\n",
    "accuracy_semeval = pd.read_csv(\"scripts/test_accuracy_semeval.csv\", index_col=0)\n",
    "accuracy_semeval_verbs_only = pd.read_csv(\"scripts/test_accuracy_semeval_verbs_only.csv\", index_col=0)"
   ]
  },
  {
   "cell_type": "code",
   "execution_count": null,
   "metadata": {
    "collapsed": false
   },
   "outputs": [],
   "source": [
    "accuracy_sensem.boxplot(return_type='axes')"
   ]
  },
  {
   "cell_type": "code",
   "execution_count": null,
   "metadata": {
    "collapsed": false
   },
   "outputs": [],
   "source": [
    "accuracy_semeval.boxplot(return_type='axes')"
   ]
  },
  {
   "cell_type": "code",
   "execution_count": null,
   "metadata": {
    "collapsed": false
   },
   "outputs": [],
   "source": [
    "accuracy_semeval_verbs_only.boxplot(return_type='axes')"
   ]
  },
  {
   "cell_type": "code",
   "execution_count": null,
   "metadata": {
    "collapsed": true
   },
   "outputs": [],
   "source": []
  }
 ],
 "metadata": {
  "kernelspec": {
   "display_name": "Python 2",
   "language": "python",
   "name": "python2"
  },
  "language_info": {
   "codemirror_mode": {
    "name": "ipython",
    "version": 2
   },
   "file_extension": ".py",
   "mimetype": "text/x-python",
   "name": "python",
   "nbconvert_exporter": "python",
   "pygments_lexer": "ipython2",
   "version": "2.7.10"
  }
 },
 "nbformat": 4,
 "nbformat_minor": 0
}
