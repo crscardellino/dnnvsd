{
 "cells": [
  {
   "cell_type": "code",
   "execution_count": null,
   "metadata": {
    "collapsed": true
   },
   "outputs": [],
   "source": [
    "%matplotlib inline\n",
    "\n",
    "import os\n",
    "import pandas as pd\n",
    "import numpy as np\n",
    "import matplotlib\n",
    "import matplotlib.pyplot as plt\n",
    "import matplotlib.pylab as pylab\n",
    "import unicodedata\n",
    "from os import path\n",
    "\n",
    "matplotlib.style.use('ggplot')\n",
    "pylab.rcParams['figure.figsize'] = 18, 10  # that's default image size for this interactive session"
   ]
  },
  {
   "cell_type": "code",
   "execution_count": null,
   "metadata": {
    "collapsed": true
   },
   "outputs": [],
   "source": [
    "experiments = [\n",
    "    \"mfl\",\n",
    "    \"bow_logreg\",\n",
    "    \"bopos_logreg\",\n",
    "    \"pos_logreg\",\n",
    "    \"wordvec_mlp_2_0\",\n",
    "    \"wordvecpos_mlp_2_0\"\n",
    "]\n",
    "\n",
    "experiments_names = [\n",
    "    \"Baseline\",\n",
    "    \"Bag-of-Words w/Logistic Regression\",\n",
    "    \"Bag-of-PoS w/Logistic Regression\",\n",
    "    \"BoW with PoS w/Logistic Regression\",\n",
    "    \"Word Embeddings w/Multilayer Perceptron\",\n",
    "    \"Word Embeddings with PoS w/Multilayer Perceptron\"\n",
    "]\n",
    "\n",
    "directory = \"../resources/results/results_supervised_sensem/\"\n",
    "lemmas_file = \"../resources/sensem/lemmas\"\n",
    "lemmas_amount = 215"
   ]
  },
  {
   "cell_type": "code",
   "execution_count": null,
   "metadata": {
    "collapsed": false
   },
   "outputs": [],
   "source": [
    "with open(lemmas_file, \"r\") as f:\n",
    "    lemmas = unicodedata.normalize(\"NFC\", f.read().decode(\"utf-8\")).strip().split()\n",
    "\n",
    "accuracies = pd.DataFrame({e: np.zeros(lemmas_amount, dtype=np.float) for e in experiments})\n",
    "most_common_precision = pd.DataFrame({e: np.zeros(lemmas_amount, dtype=np.float) for e in experiments})\n",
    "less_common_recall = pd.DataFrame({e: np.zeros(lemmas_amount, dtype=np.float) for e in experiments})\n",
    "\n",
    "for lidx, lemma in enumerate(lemmas):\n",
    "    lidx = \"{:03}\".format(lidx)\n",
    "\n",
    "    if not path.isdir(path.join(directory, lidx)):\n",
    "        continue\n",
    "\n",
    "    for experiment in experiments:\n",
    "        accuracy_file = path.join(directory, lidx, experiment, \"accuracy\")\n",
    "        mcp_file = path.join(directory, lidx, experiment, \"most_common_precision\")\n",
    "        lcr_file = path.join(directory, lidx, experiment, \"less_common_recall\")\n",
    "\n",
    "        with open(accuracy_file, \"r\") as f:\n",
    "            accuracies[experiment][int(lidx)] = np.mean([float(acc.strip()) for acc in f.readlines()])\n",
    "            \n",
    "        with open(mcp_file, \"r\") as f:\n",
    "            most_common_precision[experiment][int(lidx)] = np.mean([float(mcp.strip()) for mcp in f.readlines()])\n",
    "            \n",
    "        with open(lcr_file, \"r\") as f:\n",
    "            less_common_recall[experiment][int(lidx)] = np.mean([float(lcr.strip()) for lcr in f.readlines()])"
   ]
  },
  {
   "cell_type": "code",
   "execution_count": null,
   "metadata": {
    "collapsed": true
   },
   "outputs": [],
   "source": [
    "accuracies.to_csv(\"accuracies_sensem_supervised.csv\")\n",
    "most_common_precision.to_csv(\"mcp_sensem_supervised.csv\")\n",
    "less_common_recall.to_csv(\"lcr_sensem_supervised.csv\")"
   ]
  },
  {
   "cell_type": "code",
   "execution_count": null,
   "metadata": {
    "collapsed": false
   },
   "outputs": [],
   "source": [
    "accuracies_boxplot = accuracies.plot(kind='box', rot=5, patch_artist=True)\n",
    "x = accuracies_boxplot.set_xticklabels(experiments_names)\n",
    "x = accuracies_boxplot.set_xlabel(\"Experiment\")\n",
    "x = accuracies_boxplot.set_ylim((-0.01, 1.01))\n",
    "x = accuracies_boxplot.set_ylabel(\"Accuracy\")\n",
    "x = accuracies_boxplot.set_yticks([0.0, 0.1, 0.2, 0.3, 0.4, 0.5, 0.6, 0.7, 0.8, 0.9, 1.0])\n",
    "x = accuracies_boxplot.set_yticklabels([0, 10, 20, 30, 40, 50, 60, 70, 80, 90, 100])"
   ]
  },
  {
   "cell_type": "code",
   "execution_count": null,
   "metadata": {
    "collapsed": true
   },
   "outputs": [],
   "source": []
  }
 ],
 "metadata": {
  "kernelspec": {
   "display_name": "Python 2",
   "language": "python",
   "name": "python2"
  },
  "language_info": {
   "codemirror_mode": {
    "name": "ipython",
    "version": 2
   },
   "file_extension": ".py",
   "mimetype": "text/x-python",
   "name": "python",
   "nbconvert_exporter": "python",
   "pygments_lexer": "ipython2",
   "version": "2.7.10"
  }
 },
 "nbformat": 4,
 "nbformat_minor": 0
}
