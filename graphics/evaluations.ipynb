{
 "cells": [
  {
   "cell_type": "code",
   "execution_count": null,
   "metadata": {
    "collapsed": false
   },
   "outputs": [],
   "source": [
    "require(ggplot2)\n",
    "require(Rmisc)\n",
    "library(repr)\n",
    "\n",
    "options(repr.plot.width=10, repr.plot.height=4)"
   ]
  },
  {
   "cell_type": "code",
   "execution_count": null,
   "metadata": {
    "collapsed": false
   },
   "outputs": [],
   "source": [
    "evals.all <- read.csv(\"../resources/results/evaluations/evaluations_all.csv\")\n",
    "\n",
    "evals.all$experiment <- factor(evals.all$experiment, levels=c(\"bow\",\"wordvecpos\",\"vecpos\"))\n",
    "levels(evals.all$experiment) <- c(\"Naive Bootstrap\\nBag-of-Words\\n& Logistic Regression\",\n",
    "                                 \"Naive Bootstrap\\nWord Embeddings and PoS\\n& Multilayer Perceptron\",\n",
    "                                 \"Ladder Networks\\nWord Embeddings and PoS\\n& Multilayer Perceptron\")\n",
    "\n",
    "evals.sum <- summarySE(evals.all, measurevar=\"value\", groupvars=c(\"iteration\", \"experiment\"))"
   ]
  },
  {
   "cell_type": "code",
   "execution_count": null,
   "metadata": {
    "collapsed": false
   },
   "outputs": [],
   "source": [
    "pd <- position_dodge(0.3)\n",
    "\n",
    "p <- ggplot(evals.sum, aes(x=iteration, y=value, colour=experiment))\n",
    "p <- p + geom_errorbar(aes(ymin=value-se, ymax=value+se), width=.1, position=pd)\n",
    "p <- p + geom_line(aes(linetype=experiment), position=pd)\n",
    "p <- p + geom_point(aes(shape=experiment), position=pd, size=2, fill=\"white\")\n",
    "p <- p + scale_y_continuous(breaks=seq(0, 1, 0.1))\n",
    "p <- p + scale_x_continuous(breaks=seq(1, 10, 1))\n",
    "p <- p + scale_colour_hue(name=\"Experiment\", l=50)\n",
    "p <- p + scale_shape_manual(name=\"Experiment\", values=c(21, 22, 23))\n",
    "p <- p + scale_linetype_manual(name=\"Experiment\", values=c(\"twodash\", \"longdash\", \"solid\"))\n",
    "p <- p + labs(title=\"Manual Evaluation Comparison for SenSem Semisupervised Experiments\",\n",
    "              x=\"Iteration\", y=\"Accuracy\")\n",
    "p <- p + theme(\n",
    "      plot.title=element_text(size=15, face=\"bold\", margin=margin(10, 0, 10, 0), vjust=1, lineheight=0.6),\n",
    "      axis.title.x=element_text(size=12, margin=margin(10, 0, 0, 0)),\n",
    "      axis.title.y=element_text(size=12, margin=margin(0, 10, 0, 0)),\n",
    "      legend.title=element_text(face=\"bold\", size=13),\n",
    "      legend.text=element_text(size=11),\n",
    "      legend.key.height=unit(3,\"line\")\n",
    "  )\n",
    "\n",
    "ggsave(\"plots/evaluation_lines_results.png\", plot=p, width=10, height=4)\n",
    "\n",
    "p"
   ]
  },
  {
   "cell_type": "code",
   "execution_count": null,
   "metadata": {
    "collapsed": false
   },
   "outputs": [],
   "source": [
    "p <- ggplot(evals.all, aes(iteration, value))\n",
    "p <- p + stat_boxplot(geom=\"errorbar\", aes(group=cut_width(iteration, 1)))\n",
    "p <- p + facet_wrap(~ experiment)\n",
    "p <- p + geom_boxplot(aes(fill=experiment, group=cut_width(iteration, 1)))\n",
    "p <- p + coord_cartesian(ylim=c(0, 1.0)) + scale_y_continuous(breaks=seq(0, 1, 0.1))\n",
    "p <- p + labs(title=\"Manual Evaluation Comparison for SenSem Semisupervised Experiments\", x=\"Iteration\", y=\"Accuracy\")\n",
    "p <- p + scale_x_continuous(breaks=seq(1, 10, 1))\n",
    "p <- p + scale_fill_hue(name=\"Experiment\", l=50, guide='none')\n",
    "p <- p + theme(\n",
    "      plot.title=element_text(size=15, face=\"bold\", margin=margin(10, 0, 10, 0), vjust=1, lineheight=0.6),\n",
    "      axis.title.x=element_text(size=12, margin=margin(10, 0, 0, 0)),\n",
    "      axis.title.y=element_text(size=12, margin=margin(0, 10, 0, 0)),\n",
    "      legend.title=element_text(face=\"bold\", size=13),\n",
    "      legend.text=element_text(size=11),\n",
    "      legend.key.height=unit(3,\"line\")\n",
    "  )\n",
    "\n",
    "ggsave(\"plots/evaluation_box_results.png\", plot=p, width=10, height=4)\n",
    "\n",
    "p"
   ]
  },
  {
   "cell_type": "code",
   "execution_count": null,
   "metadata": {
    "collapsed": true
   },
   "outputs": [],
   "source": []
  }
 ],
 "metadata": {
  "kernelspec": {
   "display_name": "R",
   "language": "R",
   "name": "ir"
  },
  "language_info": {
   "codemirror_mode": "r",
   "file_extension": ".r",
   "mimetype": "text/x-r-source",
   "name": "R",
   "pygments_lexer": "r",
   "version": "3.2.3"
  }
 },
 "nbformat": 4,
 "nbformat_minor": 0
}
