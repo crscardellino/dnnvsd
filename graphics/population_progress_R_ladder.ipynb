{
 "cells": [
  {
   "cell_type": "code",
   "execution_count": null,
   "metadata": {
    "collapsed": false
   },
   "outputs": [],
   "source": [
    "# Require the packages\n",
    "require(ggplot2)\n",
    "library(repr)\n",
    "\n",
    "options(repr.plot.width=15, repr.plot.height=4.5)"
   ]
  },
  {
   "cell_type": "code",
   "execution_count": null,
   "metadata": {
    "collapsed": false
   },
   "outputs": [],
   "source": [
    "ladder_results_dir <- \"../resources/results/ladder_results_sensem/140\"\n",
    "bootstrap_results_dir <- \"../resources/results/results_semisupervised_sensem_7k/140\"\n",
    "lemma_data <- data.frame(iteration=integer(), sense=character(), count=integer(), experiment=character())\n",
    "\n",
    "for(exp in c(\"bow_logreg\", \"wordvec_mlp_2_0\", \"wordvecpos_mlp_2_0\")) {\n",
    "    data <- read.csv(paste(bootstrap_results_dir, exp, \"targets_distribution\", sep=\"/\"), header = F)\n",
    "    names(data) <- c(\"iteration\", \"sense\", \"count\")\n",
    "    data$experiment <- exp\n",
    "    lemma_data <- rbind(lemma_data, data)\n",
    "}\n",
    "\n",
    "for(exp in c(\"vec\", \"vecpos\")) {\n",
    "    data <- read.csv(paste(ladder_results_dir, exp, \"population_growth\", sep=\"/\"), header = F)\n",
    "    names(data) <- c(\"iteration\", \"sense\", \"count\")\n",
    "    data$experiment <- exp\n",
    "    lemma_data <- rbind(lemma_data, data)\n",
    "}\n",
    "\n",
    "lemma_data$experiment <- factor(lemma_data$experiment, levels=c(\"bow_logreg\", \"wordvec_mlp_2_0\",\n",
    "                                                                \"wordvecpos_mlp_2_0\", \"vec\", \"vecpos\"))\n",
    "levels(lemma_data$experiment) <- c(\"Naive Bootstrap\\nBag-of-Words\\n& Logistic Regression\",\n",
    "                                   \"Naive Bootstrap\\nWord Embeddings\\n& Multilayer Perceptron\",\n",
    "                                   \"Naive Bootstrap\\nWord Embeddings\\nand PoS\\n& Multilayer Perceptron\",\n",
    "                                   \"Ladder Networks\\nWord Embeddings\\n& Multilayer Perceptron\",\n",
    "                                   \"Ladder Networks\\nWord Embeddings\\nand PoS\\n& Multilayer Perceptron\")"
   ]
  },
  {
   "cell_type": "code",
   "execution_count": null,
   "metadata": {
    "collapsed": false,
    "scrolled": true
   },
   "outputs": [],
   "source": [
    "p <- ggplot(lemma_data, aes(x=iteration, y=count, fill=sense))\n",
    "p <- p + facet_wrap(~ experiment, scales = 'free', ncol=5)\n",
    "p <- p + geom_area(position=\"fill\")\n",
    "p <- p + scale_x_continuous(breaks=seq(0, 20, 2))\n",
    "p <- p + scale_y_continuous(breaks=seq(0, 1, 0.1), labels=seq(0, 100, 10))\n",
    "p <- p + labs(title=\"Population percentage per sense for lemma \\\"limitar\\\"\", y=\"Percent\", x=\"Iteration Number\")\n",
    "p <- p + scale_fill_brewer(name=\"Sense\", palette = \"Accent\", direction = 1,\n",
    "                          breaks=c(\"limitar-04\", \"limitar-03\", \"limitar-02\", \"limitar-01\"))\n",
    "p <- p + theme(\n",
    "      plot.title=element_text(size=15, face=\"bold\", margin=margin(10, 0, 10, 0), vjust=1, lineheight=0.6),\n",
    "      strip.text.x=element_text(size=10),\n",
    "      axis.title.x=element_text(size=12, margin=margin(10, 0, 0, 0)),\n",
    "      axis.title.y=element_text(size=12, margin=margin(0, 10, 0, 0)),\n",
    "      legend.title=element_text(face=\"bold\", size=13),\n",
    "      legend.text=element_text(size=11),\n",
    "      legend.key.height=unit(1.5,\"line\")\n",
    "  )\n",
    "p"
   ]
  },
  {
   "cell_type": "code",
   "execution_count": null,
   "metadata": {
    "collapsed": true
   },
   "outputs": [],
   "source": [
    "# Save the plot\n",
    "ggsave(\"~/Google Drive/Posgrado/WSD with WE/papers/esslli/plots/limitar.png\", plot=p, width=15, height=4.5)"
   ]
  },
  {
   "cell_type": "code",
   "execution_count": null,
   "metadata": {
    "collapsed": false
   },
   "outputs": [],
   "source": [
    "library(grid)\n",
    "library(gridExtra)"
   ]
  },
  {
   "cell_type": "code",
   "execution_count": null,
   "metadata": {
    "collapsed": false
   },
   "outputs": [],
   "source": [
    "options(repr.plot.width=10.5, repr.plot.height=18)\n",
    "ggsave(\"plots/population_progres.png\", plot=grid.arrange(p1, p2, p3, p4, ncol = 1), width=10.5, height=18)"
   ]
  },
  {
   "cell_type": "code",
   "execution_count": null,
   "metadata": {
    "collapsed": false
   },
   "outputs": [],
   "source": [
    "levels(lemma_data$experiment)"
   ]
  },
  {
   "cell_type": "code",
   "execution_count": null,
   "metadata": {
    "collapsed": true
   },
   "outputs": [],
   "source": []
  }
 ],
 "metadata": {
  "kernelspec": {
   "display_name": "R",
   "language": "R",
   "name": "ir"
  },
  "language_info": {
   "codemirror_mode": "r",
   "file_extension": ".r",
   "mimetype": "text/x-r-source",
   "name": "R",
   "pygments_lexer": "r",
   "version": "3.2.3"
  }
 },
 "nbformat": 4,
 "nbformat_minor": 0
}
