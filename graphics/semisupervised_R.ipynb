{
 "cells": [
  {
   "cell_type": "code",
   "execution_count": null,
   "metadata": {
    "collapsed": false
   },
   "outputs": [],
   "source": [
    "# Require the packages\n",
    "require(ggplot2)\n",
    "library(repr)\n",
    "\n",
    "options(repr.plot.width=10.5, repr.plot.height=4.5)"
   ]
  },
  {
   "cell_type": "code",
   "execution_count": null,
   "metadata": {
    "collapsed": false
   },
   "outputs": [],
   "source": [
    "data <- read.csv(\"data/semisupervised_results.csv\")\n",
    "names(data) <- c(\"experiment_name\", \"experiment_kind\", \"accuracy\")\n",
    "data$experiment_name <- factor(data$experiment_name,\n",
    "                               levels=c(\"sensem_before\", \"sensem_after\", \"semeval_before\", \"semeval_after\"))\n",
    "levels(data$experiment_kind) <- c(\"Bag-of-Words &\\nLogistic Regression\",\n",
    "                                  \"Word Embeddings &\\nMultilayer Perceptron\",\n",
    "                                  \"Word Embeddings and PoS &\\nMultilayer Perceptron\")"
   ]
  },
  {
   "cell_type": "code",
   "execution_count": null,
   "metadata": {
    "collapsed": false,
    "scrolled": true
   },
   "outputs": [],
   "source": [
    "p <- ggplot(data, aes(experiment_name, accuracy))\n",
    "p <- p + stat_boxplot(geom=\"errorbar\")\n",
    "p <- p + facet_wrap(~ experiment_kind)\n",
    "p <- p + geom_boxplot(aes(fill=experiment_name))\n",
    "p <- p + coord_cartesian(ylim=c(0, 1.0)) + scale_y_continuous(breaks=seq(0, 1, 0.1))\n",
    "p <- p + labs(title=\"Semi-supervised Experiments\", y=\"Accuracy\")\n",
    "p <- p + scale_fill_manual(name=\"Experiment\",\n",
    "                           values = c(\"steelblue1\", \"steelblue4\", \"darkorange1\", \"darkorange4\"),\n",
    "                           labels=c(\"Spanish WSD Accuracy\\nBefore Self-taught Learning\",\n",
    "                               \"Spanish WSD Accuracy\\nAfter Self-taught Learning\",\n",
    "                               \"English WSD Accuracy\\nBefore Self-taught Learning\",\n",
    "                               \"English WSD Accuracy\\nAfter Self-taught Learning\"))\n",
    "p <- p + theme(\n",
    "      plot.title=element_text(size=15, face=\"bold\", margin=margin(10, 0, 10, 0), vjust=1, lineheight=0.6),\n",
    "      strip.text.x=element_text(size=10),\n",
    "      axis.title.x=element_blank(),\n",
    "      axis.ticks.x=element_blank(),\n",
    "      axis.text.x=element_blank(),\n",
    "      axis.title.y=element_text(size=12, margin=margin(0, 10, 0, 0)),\n",
    "      legend.title=element_text(face=\"bold\", size=13),\n",
    "      legend.text=element_text(size=11),\n",
    "      legend.key.height=unit(2.75,\"line\")\n",
    "  )\n",
    "p"
   ]
  },
  {
   "cell_type": "code",
   "execution_count": null,
   "metadata": {
    "collapsed": true
   },
   "outputs": [],
   "source": [
    "# Save the plot\n",
    "ggsave(\"plots/semisupervised_results.png\", plot=p, width=10.5, height=4.5)"
   ]
  },
  {
   "cell_type": "code",
   "execution_count": null,
   "metadata": {
    "collapsed": true
   },
   "outputs": [],
   "source": []
  }
 ],
 "metadata": {
  "kernelspec": {
   "display_name": "R",
   "language": "R",
   "name": "ir"
  },
  "language_info": {
   "codemirror_mode": "r",
   "file_extension": ".r",
   "mimetype": "text/x-r-source",
   "name": "R",
   "pygments_lexer": "r",
   "version": "3.2.3"
  }
 },
 "nbformat": 4,
 "nbformat_minor": 0
}
