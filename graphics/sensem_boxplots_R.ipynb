{
 "cells": [
  {
   "cell_type": "code",
   "execution_count": null,
   "metadata": {
    "collapsed": false
   },
   "outputs": [],
   "source": [
    "# Require the packages\n",
    "require(ggplot2)\n",
    "require(reshape2)\n",
    "library(repr)\n",
    "\n",
    "options(repr.plot.width=10.5, repr.plot.height=4.5)"
   ]
  },
  {
   "cell_type": "code",
   "execution_count": null,
   "metadata": {
    "collapsed": false
   },
   "outputs": [],
   "source": [
    "# Load the data\n",
    "accuracies <- read.csv(\"data/accuracies_sensem_supervised.csv\")\n",
    "accuracies$metric <- \"accuracy\"\n",
    "mcp <- read.csv(\"data/mcp_sensem_supervised.csv\")\n",
    "mcp$metric <- \"mcp\"\n",
    "lcr <- read.csv(\"data/lcr_sensem_supervised.csv\")\n",
    "lcr$metric <- \"lcr\""
   ]
  },
  {
   "cell_type": "code",
   "execution_count": null,
   "metadata": {
    "collapsed": false
   },
   "outputs": [],
   "source": [
    "# Transform the data\n",
    "accuracies.long <- melt(accuracies, id.vars = c(\"metric\"), variable.name = \"experiment\", value.name = \"result\")\n",
    "mcp.long <- melt(mcp, id.vars = c(\"metric\"), variable.name = \"experiment\", value.name = \"result\")\n",
    "lcr.long <- melt(lcr, id.vars = c(\"metric\"), variable.name = \"experiment\", value.name = \"result\")\n",
    "data <- rbind(accuracies.long, mcp.long)\n",
    "data <- rbind(data, lcr.long)\n",
    "data$experiment <- factor(data$experiment, levels=c(\"mfl\", \"bow_logreg\", \"bopos_logreg\",\n",
    "                                                    \"pos_logreg\", \"wordvec_mlp_2_0\", \"wordvecpos_mlp_2_0\"))\n",
    "data$metric <- factor(data$metric, levels=c(\"accuracy\", \"mcp\", \"lcr\"))\n",
    "levels(data$metric) <- c(\"Accuracy\", \"Most Frequent Class Precision\", \"Less Frequent Classes Recall\")"
   ]
  },
  {
   "cell_type": "code",
   "execution_count": null,
   "metadata": {
    "collapsed": false
   },
   "outputs": [],
   "source": [
    "# Plot\n",
    "p <- ggplot(data, aes(experiment, result))\n",
    "p <- p + stat_boxplot(geom=\"errorbar\")\n",
    "p <- p + facet_wrap(~ metric)\n",
    "p <- p + geom_boxplot(aes(fill=experiment))\n",
    "p <- p + scale_y_continuous(breaks=seq(0, 1, 0.1))\n",
    "p <- p + scale_x_discrete(labels=c(\"1\", \"2\", \"3\", \"4\", \"5\", \"6\"))\n",
    "p <- p + scale_fill_discrete(name=\"Experiment\",\n",
    "                      labels=c(\"Baseline\",\n",
    "                               \"Bag-of-Words\\n& Logistic Regression\",\n",
    "                               \"Bag-of-Words\\nand Bag-of-PoS\\n& Logistic Regression\",\n",
    "                               \"Bag-of-Words\\nand Seq-of-PoS\\n& Logistic Regression\",\n",
    "                               \"Word Embeddings\\n& Multilayer Perceptron\",\n",
    "                               \"Word Embeddings\\nand PoS\\n& Multilayer Perceptron\"))\n",
    "p <- p + labs(title=\"SenSem Experiments\", x=\"Experiment Number\")\n",
    "p <- p + theme(\n",
    "      plot.title=element_text(size=15, face=\"bold\", margin=margin(10, 0, 10, 0), vjust=1, lineheight=0.6),\n",
    "      strip.text.x=element_text(size=10),\n",
    "      axis.title.x=element_text(face=\"bold\", size=13, margin=margin(15, 0, 0, 0)),\n",
    "      axis.title.y=element_blank(),\n",
    "      axis.text.x=element_text(size=10),\n",
    "      legend.title=element_text(face=\"bold\", size=13),\n",
    "      legend.text=element_text(size=11),\n",
    "      legend.key.height=unit(2.75,\"line\")\n",
    "  )\n",
    "p <- p + guides(\n",
    "    colour = guide_legend(override.aes = list(size = 5, shape = c(1, 2, 3, 4, 5, 6)))\n",
    "  )\n",
    "p"
   ]
  },
  {
   "cell_type": "code",
   "execution_count": null,
   "metadata": {
    "collapsed": true
   },
   "outputs": [],
   "source": [
    "# Save the plot\n",
    "ggsave(\"plots/sensem_supervised_results.png\", plot=p, width=10.5, height=4.5)"
   ]
  },
  {
   "cell_type": "code",
   "execution_count": null,
   "metadata": {
    "collapsed": true
   },
   "outputs": [],
   "source": []
  }
 ],
 "metadata": {
  "kernelspec": {
   "display_name": "R",
   "language": "R",
   "name": "ir"
  },
  "language_info": {
   "codemirror_mode": "r",
   "file_extension": ".r",
   "mimetype": "text/x-r-source",
   "name": "R",
   "pygments_lexer": "r",
   "version": "3.2.3"
  }
 },
 "nbformat": 4,
 "nbformat_minor": 0
}
