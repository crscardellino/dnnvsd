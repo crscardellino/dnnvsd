{
 "cells": [
  {
   "cell_type": "code",
   "execution_count": null,
   "metadata": {
    "collapsed": false
   },
   "outputs": [],
   "source": [
    "# Require the packages\n",
    "require(ggplot2)\n",
    "require(reshape2)\n",
    "library(repr)\n",
    "\n",
    "options(repr.plot.width=10.5, repr.plot.height=6.5)"
   ]
  },
  {
   "cell_type": "code",
   "execution_count": null,
   "metadata": {
    "collapsed": false
   },
   "outputs": [],
   "source": [
    "# Load the data\n",
    "accuracies <- read.csv(\"data/accuracies_semeval_verbs_semisupervised.csv\")\n",
    "accuracies$metric <- \"accuracy\"\n",
    "mcp <- read.csv(\"data/mcp_semeval_verbs_semisupervised.csv\")\n",
    "mcp$metric <- \"mcp\"\n",
    "lcr <- read.csv(\"data/lcr_semeval_verbs_semisupervised.csv\")\n",
    "lcr$metric <- \"lcr\""
   ]
  },
  {
   "cell_type": "code",
   "execution_count": null,
   "metadata": {
    "collapsed": false
   },
   "outputs": [],
   "source": [
    "# Transform the data\n",
    "accuracies.long <- melt(accuracies, id.vars = c(\"metric\"), variable.name = \"experiment\", value.name = \"result\")\n",
    "mcp.long <- melt(mcp, id.vars = c(\"metric\"), variable.name = \"experiment\", value.name = \"result\")\n",
    "lcr.long <- melt(lcr, id.vars = c(\"metric\"), variable.name = \"experiment\", value.name = \"result\")\n",
    "#data <- accuracies.long\n",
    "data <- rbind(accuracies.long, mcp.long)\n",
    "data <- rbind(data, lcr.long)\n",
    "data$experiment <- factor(data$experiment, levels=c(\"supervised_bow\", \"supervised_vec\", \"supervised_vecpos\",\n",
    "                                                    \"bootstrap_bow\", \"bootstrap_vec\", \"bootstrap_vecpos\",\n",
    "                                                    \"ladder_vec\", \"ladder_vecpos\"))\n",
    "data$metric <- factor(data$metric, levels=c(\"accuracy\", \"mcp\", \"lcr\"))\n",
    "levels(data$metric) <- c(\"Accuracy\", \"Most Frequent Class Precision\", \"Less Frequent Classes Recall\")"
   ]
  },
  {
   "cell_type": "code",
   "execution_count": null,
   "metadata": {
    "collapsed": false
   },
   "outputs": [],
   "source": [
    "# Plot\n",
    "p <- ggplot(data, aes(experiment, result))\n",
    "p <- p + stat_boxplot(geom=\"errorbar\")\n",
    "p <- p + facet_wrap(~ metric)\n",
    "p <- p + geom_boxplot(aes(fill=experiment))\n",
    "p <- p + scale_y_continuous(breaks=seq(0, 1, 0.1))\n",
    "p <- p + scale_fill_discrete(name=\"Experiment\",\n",
    "                      labels=c(\"Supervised\\nBag-of-Words\\n& Logistic Regression\",\n",
    "                               \"Supervised\\nWord Embeddings\\n& Multilayer Perceptron\",\n",
    "                               \"Supervised\\nWord Embeddings\\nand PoS\\n& Multilayer Perceptron\",\n",
    "                               \"Naive Bootstrap\\nBag-of-Words\\n& Logistic Regression\",\n",
    "                               \"Naive Bootstrap\\nWord Embeddings\\n& Multilayer Perceptron\",\n",
    "                               \"Naive Bootstrap\\nWord Embeddings\\nand PoS\\n& Multilayer Perceptron\",\n",
    "                               \"Ladder Networks\\nWord Embeddings\\n& Multilayer Perceptron\",\n",
    "                               \"Ladder Networks\\nWord Embeddings\\nand PoS\\n& Multilayer Perceptron\"))\n",
    "p <- p + labs(title=\"Semeval (Verbs Only) Semisupervised Experiments Comparison\")\n",
    "p <- p + theme(\n",
    "      plot.title=element_text(size=15, face=\"bold\", margin=margin(10, 0, 10, 0), vjust=1, lineheight=0.6),\n",
    "      strip.text.x=element_text(size=10),\n",
    "      axis.title.x=element_blank(),\n",
    "      axis.title.y=element_blank(),\n",
    "      axis.text.x=element_blank(),\n",
    "      axis.ticks.x=element_blank(),\n",
    "      legend.title=element_text(face=\"bold\", size=13),\n",
    "      legend.text=element_text(size=11),\n",
    "      legend.key.height=unit(3.5,\"line\")\n",
    "  )\n",
    "p"
   ]
  },
  {
   "cell_type": "code",
   "execution_count": null,
   "metadata": {
    "collapsed": true
   },
   "outputs": [],
   "source": [
    "# Save the plot\n",
    "ggsave(\"plots/semeval_semisupervised_verbs_results.png\", plot=p, width=10.5, height=6.5)"
   ]
  },
  {
   "cell_type": "code",
   "execution_count": null,
   "metadata": {
    "collapsed": true
   },
   "outputs": [],
   "source": []
  }
 ],
 "metadata": {
  "kernelspec": {
   "display_name": "R",
   "language": "R",
   "name": "ir"
  },
  "language_info": {
   "codemirror_mode": "r",
   "file_extension": ".r",
   "mimetype": "text/x-r-source",
   "name": "R",
   "pygments_lexer": "r",
   "version": "3.2.3"
  }
 },
 "nbformat": 4,
 "nbformat_minor": 0
}
